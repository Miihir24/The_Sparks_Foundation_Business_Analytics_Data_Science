{
 "cells": [
  {
   "cell_type": "code",
   "execution_count": null,
   "metadata": {},
   "outputs": [],
   "source": []
  },
  {
   "cell_type": "markdown",
   "metadata": {},
   "source": [
    "##### Importing the required libraries"
   ]
  },
  {
   "cell_type": "code",
   "execution_count": 35,
   "metadata": {},
   "outputs": [],
   "source": [
    "import pandas as pd\n",
    "import numpy as np\n",
    "import matplotlib.pyplot as plt\n",
    "import seaborn as sns\n",
    "\n",
    "from pandas_profiling import ProfileReport\n",
    "\n",
    "from sklearn.linear_model import LinearRegression\n",
    "\n",
    "## Imputation of num_cols\n",
    "from sklearn.experimental import enable_iterative_imputer  \n",
    "from sklearn.impute import IterativeImputer  \n",
    "\n",
    "# Imputation of cat_cols\n",
    "from sklearn.impute import SimpleImputer"
   ]
  },
  {
   "cell_type": "markdown",
   "metadata": {},
   "source": [
    "##### Loading the data "
   ]
  },
  {
   "cell_type": "code",
   "execution_count": 36,
   "metadata": {},
   "outputs": [
    {
     "name": "stderr",
     "output_type": "stream",
     "text": [
      "C:\\Users\\miihi\\anaconda3\\lib\\site-packages\\IPython\\core\\interactiveshell.py:3146: DtypeWarning: Columns (4,6,31,33,61,62,63,76,79,90,92,94,96,114,115,121) have mixed types.Specify dtype option on import or set low_memory=False.\n",
      "  has_raised = await self.run_ast_nodes(code_ast.body, cell_name,\n"
     ]
    }
   ],
   "source": [
    "df = pd.read_csv(\"C:/Users/miihi/Data/Sparks Foundation/Global Terrorism - EDA tableau/globalterrorismdb_0718dist.csv\", encoding='mbcs')"
   ]
  },
  {
   "cell_type": "markdown",
   "metadata": {},
   "source": [
    "##### Checking the top 5 and bottom 5 rows of data "
   ]
  },
  {
   "cell_type": "code",
   "execution_count": 3,
   "metadata": {},
   "outputs": [
    {
     "data": {
      "text/html": [
       "<div>\n",
       "<style scoped>\n",
       "    .dataframe tbody tr th:only-of-type {\n",
       "        vertical-align: middle;\n",
       "    }\n",
       "\n",
       "    .dataframe tbody tr th {\n",
       "        vertical-align: top;\n",
       "    }\n",
       "\n",
       "    .dataframe thead th {\n",
       "        text-align: right;\n",
       "    }\n",
       "</style>\n",
       "<table border=\"1\" class=\"dataframe\">\n",
       "  <thead>\n",
       "    <tr style=\"text-align: right;\">\n",
       "      <th></th>\n",
       "      <th>eventid</th>\n",
       "      <th>iyear</th>\n",
       "      <th>imonth</th>\n",
       "      <th>iday</th>\n",
       "      <th>approxdate</th>\n",
       "      <th>extended</th>\n",
       "      <th>resolution</th>\n",
       "      <th>country</th>\n",
       "      <th>country_txt</th>\n",
       "      <th>region</th>\n",
       "      <th>...</th>\n",
       "      <th>addnotes</th>\n",
       "      <th>scite1</th>\n",
       "      <th>scite2</th>\n",
       "      <th>scite3</th>\n",
       "      <th>dbsource</th>\n",
       "      <th>INT_LOG</th>\n",
       "      <th>INT_IDEO</th>\n",
       "      <th>INT_MISC</th>\n",
       "      <th>INT_ANY</th>\n",
       "      <th>related</th>\n",
       "    </tr>\n",
       "  </thead>\n",
       "  <tbody>\n",
       "    <tr>\n",
       "      <th>0</th>\n",
       "      <td>197000000001</td>\n",
       "      <td>1970</td>\n",
       "      <td>7</td>\n",
       "      <td>2</td>\n",
       "      <td>NaN</td>\n",
       "      <td>0</td>\n",
       "      <td>NaN</td>\n",
       "      <td>58</td>\n",
       "      <td>Dominican Republic</td>\n",
       "      <td>2</td>\n",
       "      <td>...</td>\n",
       "      <td>NaN</td>\n",
       "      <td>NaN</td>\n",
       "      <td>NaN</td>\n",
       "      <td>NaN</td>\n",
       "      <td>PGIS</td>\n",
       "      <td>0</td>\n",
       "      <td>0</td>\n",
       "      <td>0</td>\n",
       "      <td>0</td>\n",
       "      <td>NaN</td>\n",
       "    </tr>\n",
       "    <tr>\n",
       "      <th>1</th>\n",
       "      <td>197000000002</td>\n",
       "      <td>1970</td>\n",
       "      <td>0</td>\n",
       "      <td>0</td>\n",
       "      <td>NaN</td>\n",
       "      <td>0</td>\n",
       "      <td>NaN</td>\n",
       "      <td>130</td>\n",
       "      <td>Mexico</td>\n",
       "      <td>1</td>\n",
       "      <td>...</td>\n",
       "      <td>NaN</td>\n",
       "      <td>NaN</td>\n",
       "      <td>NaN</td>\n",
       "      <td>NaN</td>\n",
       "      <td>PGIS</td>\n",
       "      <td>0</td>\n",
       "      <td>1</td>\n",
       "      <td>1</td>\n",
       "      <td>1</td>\n",
       "      <td>NaN</td>\n",
       "    </tr>\n",
       "    <tr>\n",
       "      <th>2</th>\n",
       "      <td>197001000001</td>\n",
       "      <td>1970</td>\n",
       "      <td>1</td>\n",
       "      <td>0</td>\n",
       "      <td>NaN</td>\n",
       "      <td>0</td>\n",
       "      <td>NaN</td>\n",
       "      <td>160</td>\n",
       "      <td>Philippines</td>\n",
       "      <td>5</td>\n",
       "      <td>...</td>\n",
       "      <td>NaN</td>\n",
       "      <td>NaN</td>\n",
       "      <td>NaN</td>\n",
       "      <td>NaN</td>\n",
       "      <td>PGIS</td>\n",
       "      <td>-9</td>\n",
       "      <td>-9</td>\n",
       "      <td>1</td>\n",
       "      <td>1</td>\n",
       "      <td>NaN</td>\n",
       "    </tr>\n",
       "    <tr>\n",
       "      <th>3</th>\n",
       "      <td>197001000002</td>\n",
       "      <td>1970</td>\n",
       "      <td>1</td>\n",
       "      <td>0</td>\n",
       "      <td>NaN</td>\n",
       "      <td>0</td>\n",
       "      <td>NaN</td>\n",
       "      <td>78</td>\n",
       "      <td>Greece</td>\n",
       "      <td>8</td>\n",
       "      <td>...</td>\n",
       "      <td>NaN</td>\n",
       "      <td>NaN</td>\n",
       "      <td>NaN</td>\n",
       "      <td>NaN</td>\n",
       "      <td>PGIS</td>\n",
       "      <td>-9</td>\n",
       "      <td>-9</td>\n",
       "      <td>1</td>\n",
       "      <td>1</td>\n",
       "      <td>NaN</td>\n",
       "    </tr>\n",
       "    <tr>\n",
       "      <th>4</th>\n",
       "      <td>197001000003</td>\n",
       "      <td>1970</td>\n",
       "      <td>1</td>\n",
       "      <td>0</td>\n",
       "      <td>NaN</td>\n",
       "      <td>0</td>\n",
       "      <td>NaN</td>\n",
       "      <td>101</td>\n",
       "      <td>Japan</td>\n",
       "      <td>4</td>\n",
       "      <td>...</td>\n",
       "      <td>NaN</td>\n",
       "      <td>NaN</td>\n",
       "      <td>NaN</td>\n",
       "      <td>NaN</td>\n",
       "      <td>PGIS</td>\n",
       "      <td>-9</td>\n",
       "      <td>-9</td>\n",
       "      <td>1</td>\n",
       "      <td>1</td>\n",
       "      <td>NaN</td>\n",
       "    </tr>\n",
       "  </tbody>\n",
       "</table>\n",
       "<p>5 rows × 135 columns</p>\n",
       "</div>"
      ],
      "text/plain": [
       "        eventid  iyear  imonth  iday approxdate  extended resolution  country  \\\n",
       "0  197000000001   1970       7     2        NaN         0        NaN       58   \n",
       "1  197000000002   1970       0     0        NaN         0        NaN      130   \n",
       "2  197001000001   1970       1     0        NaN         0        NaN      160   \n",
       "3  197001000002   1970       1     0        NaN         0        NaN       78   \n",
       "4  197001000003   1970       1     0        NaN         0        NaN      101   \n",
       "\n",
       "          country_txt  region  ... addnotes scite1 scite2  scite3  dbsource  \\\n",
       "0  Dominican Republic       2  ...      NaN    NaN    NaN     NaN      PGIS   \n",
       "1              Mexico       1  ...      NaN    NaN    NaN     NaN      PGIS   \n",
       "2         Philippines       5  ...      NaN    NaN    NaN     NaN      PGIS   \n",
       "3              Greece       8  ...      NaN    NaN    NaN     NaN      PGIS   \n",
       "4               Japan       4  ...      NaN    NaN    NaN     NaN      PGIS   \n",
       "\n",
       "   INT_LOG  INT_IDEO INT_MISC INT_ANY  related  \n",
       "0        0         0        0       0      NaN  \n",
       "1        0         1        1       1      NaN  \n",
       "2       -9        -9        1       1      NaN  \n",
       "3       -9        -9        1       1      NaN  \n",
       "4       -9        -9        1       1      NaN  \n",
       "\n",
       "[5 rows x 135 columns]"
      ]
     },
     "execution_count": 3,
     "metadata": {},
     "output_type": "execute_result"
    }
   ],
   "source": [
    "df.head()"
   ]
  },
  {
   "cell_type": "code",
   "execution_count": 49,
   "metadata": {},
   "outputs": [
    {
     "data": {
      "text/html": [
       "<div>\n",
       "<style scoped>\n",
       "    .dataframe tbody tr th:only-of-type {\n",
       "        vertical-align: middle;\n",
       "    }\n",
       "\n",
       "    .dataframe tbody tr th {\n",
       "        vertical-align: top;\n",
       "    }\n",
       "\n",
       "    .dataframe thead th {\n",
       "        text-align: right;\n",
       "    }\n",
       "</style>\n",
       "<table border=\"1\" class=\"dataframe\">\n",
       "  <thead>\n",
       "    <tr style=\"text-align: right;\">\n",
       "      <th></th>\n",
       "      <th>eventid</th>\n",
       "      <th>iyear</th>\n",
       "      <th>imonth</th>\n",
       "      <th>iday</th>\n",
       "      <th>approxdate</th>\n",
       "      <th>extended</th>\n",
       "      <th>resolution</th>\n",
       "      <th>country</th>\n",
       "      <th>country_txt</th>\n",
       "      <th>region</th>\n",
       "      <th>...</th>\n",
       "      <th>addnotes</th>\n",
       "      <th>scite1</th>\n",
       "      <th>scite2</th>\n",
       "      <th>scite3</th>\n",
       "      <th>dbsource</th>\n",
       "      <th>INT_LOG</th>\n",
       "      <th>INT_IDEO</th>\n",
       "      <th>INT_MISC</th>\n",
       "      <th>INT_ANY</th>\n",
       "      <th>related</th>\n",
       "    </tr>\n",
       "  </thead>\n",
       "  <tbody>\n",
       "    <tr>\n",
       "      <th>181686</th>\n",
       "      <td>201712310022</td>\n",
       "      <td>2017</td>\n",
       "      <td>12</td>\n",
       "      <td>31</td>\n",
       "      <td>NaN</td>\n",
       "      <td>0</td>\n",
       "      <td>NaN</td>\n",
       "      <td>182</td>\n",
       "      <td>Somalia</td>\n",
       "      <td>11</td>\n",
       "      <td>...</td>\n",
       "      <td>NaN</td>\n",
       "      <td>\"Somalia: Al-Shabaab Militants Attack Army Che...</td>\n",
       "      <td>\"Highlights: Somalia Daily Media Highlights 2 ...</td>\n",
       "      <td>\"Highlights: Somalia Daily Media Highlights 1 ...</td>\n",
       "      <td>START Primary Collection</td>\n",
       "      <td>0</td>\n",
       "      <td>0</td>\n",
       "      <td>0</td>\n",
       "      <td>0</td>\n",
       "      <td>NaN</td>\n",
       "    </tr>\n",
       "    <tr>\n",
       "      <th>181687</th>\n",
       "      <td>201712310029</td>\n",
       "      <td>2017</td>\n",
       "      <td>12</td>\n",
       "      <td>31</td>\n",
       "      <td>NaN</td>\n",
       "      <td>0</td>\n",
       "      <td>NaN</td>\n",
       "      <td>200</td>\n",
       "      <td>Syria</td>\n",
       "      <td>10</td>\n",
       "      <td>...</td>\n",
       "      <td>NaN</td>\n",
       "      <td>\"Putin's 'victory' in Syria has turned into a ...</td>\n",
       "      <td>\"Two Russian soldiers killed at Hmeymim base i...</td>\n",
       "      <td>\"Two Russian servicemen killed in Syria mortar...</td>\n",
       "      <td>START Primary Collection</td>\n",
       "      <td>-9</td>\n",
       "      <td>-9</td>\n",
       "      <td>1</td>\n",
       "      <td>1</td>\n",
       "      <td>NaN</td>\n",
       "    </tr>\n",
       "    <tr>\n",
       "      <th>181688</th>\n",
       "      <td>201712310030</td>\n",
       "      <td>2017</td>\n",
       "      <td>12</td>\n",
       "      <td>31</td>\n",
       "      <td>NaN</td>\n",
       "      <td>0</td>\n",
       "      <td>NaN</td>\n",
       "      <td>160</td>\n",
       "      <td>Philippines</td>\n",
       "      <td>5</td>\n",
       "      <td>...</td>\n",
       "      <td>NaN</td>\n",
       "      <td>\"Maguindanao clashes trap tribe members,\" Phil...</td>\n",
       "      <td>NaN</td>\n",
       "      <td>NaN</td>\n",
       "      <td>START Primary Collection</td>\n",
       "      <td>0</td>\n",
       "      <td>0</td>\n",
       "      <td>0</td>\n",
       "      <td>0</td>\n",
       "      <td>NaN</td>\n",
       "    </tr>\n",
       "    <tr>\n",
       "      <th>181689</th>\n",
       "      <td>201712310031</td>\n",
       "      <td>2017</td>\n",
       "      <td>12</td>\n",
       "      <td>31</td>\n",
       "      <td>NaN</td>\n",
       "      <td>0</td>\n",
       "      <td>NaN</td>\n",
       "      <td>92</td>\n",
       "      <td>India</td>\n",
       "      <td>6</td>\n",
       "      <td>...</td>\n",
       "      <td>NaN</td>\n",
       "      <td>\"Trader escapes grenade attack in Imphal,\" Bus...</td>\n",
       "      <td>NaN</td>\n",
       "      <td>NaN</td>\n",
       "      <td>START Primary Collection</td>\n",
       "      <td>-9</td>\n",
       "      <td>-9</td>\n",
       "      <td>0</td>\n",
       "      <td>-9</td>\n",
       "      <td>NaN</td>\n",
       "    </tr>\n",
       "    <tr>\n",
       "      <th>181690</th>\n",
       "      <td>201712310032</td>\n",
       "      <td>2017</td>\n",
       "      <td>12</td>\n",
       "      <td>31</td>\n",
       "      <td>NaN</td>\n",
       "      <td>0</td>\n",
       "      <td>NaN</td>\n",
       "      <td>160</td>\n",
       "      <td>Philippines</td>\n",
       "      <td>5</td>\n",
       "      <td>...</td>\n",
       "      <td>NaN</td>\n",
       "      <td>\"Security tightened in Cotabato following IED ...</td>\n",
       "      <td>\"Security tightened in Cotabato City,\" Manila ...</td>\n",
       "      <td>NaN</td>\n",
       "      <td>START Primary Collection</td>\n",
       "      <td>-9</td>\n",
       "      <td>-9</td>\n",
       "      <td>0</td>\n",
       "      <td>-9</td>\n",
       "      <td>NaN</td>\n",
       "    </tr>\n",
       "  </tbody>\n",
       "</table>\n",
       "<p>5 rows × 135 columns</p>\n",
       "</div>"
      ],
      "text/plain": [
       "             eventid  iyear  imonth  iday approxdate  extended resolution  \\\n",
       "181686  201712310022   2017      12    31        NaN         0        NaN   \n",
       "181687  201712310029   2017      12    31        NaN         0        NaN   \n",
       "181688  201712310030   2017      12    31        NaN         0        NaN   \n",
       "181689  201712310031   2017      12    31        NaN         0        NaN   \n",
       "181690  201712310032   2017      12    31        NaN         0        NaN   \n",
       "\n",
       "        country  country_txt  region  ... addnotes  \\\n",
       "181686      182      Somalia      11  ...      NaN   \n",
       "181687      200        Syria      10  ...      NaN   \n",
       "181688      160  Philippines       5  ...      NaN   \n",
       "181689       92        India       6  ...      NaN   \n",
       "181690      160  Philippines       5  ...      NaN   \n",
       "\n",
       "                                                   scite1  \\\n",
       "181686  \"Somalia: Al-Shabaab Militants Attack Army Che...   \n",
       "181687  \"Putin's 'victory' in Syria has turned into a ...   \n",
       "181688  \"Maguindanao clashes trap tribe members,\" Phil...   \n",
       "181689  \"Trader escapes grenade attack in Imphal,\" Bus...   \n",
       "181690  \"Security tightened in Cotabato following IED ...   \n",
       "\n",
       "                                                   scite2  \\\n",
       "181686  \"Highlights: Somalia Daily Media Highlights 2 ...   \n",
       "181687  \"Two Russian soldiers killed at Hmeymim base i...   \n",
       "181688                                                NaN   \n",
       "181689                                                NaN   \n",
       "181690  \"Security tightened in Cotabato City,\" Manila ...   \n",
       "\n",
       "                                                   scite3  \\\n",
       "181686  \"Highlights: Somalia Daily Media Highlights 1 ...   \n",
       "181687  \"Two Russian servicemen killed in Syria mortar...   \n",
       "181688                                                NaN   \n",
       "181689                                                NaN   \n",
       "181690                                                NaN   \n",
       "\n",
       "                        dbsource  INT_LOG  INT_IDEO INT_MISC INT_ANY  related  \n",
       "181686  START Primary Collection        0         0        0       0      NaN  \n",
       "181687  START Primary Collection       -9        -9        1       1      NaN  \n",
       "181688  START Primary Collection        0         0        0       0      NaN  \n",
       "181689  START Primary Collection       -9        -9        0      -9      NaN  \n",
       "181690  START Primary Collection       -9        -9        0      -9      NaN  \n",
       "\n",
       "[5 rows x 135 columns]"
      ]
     },
     "execution_count": 49,
     "metadata": {},
     "output_type": "execute_result"
    }
   ],
   "source": [
    "df.tail()"
   ]
  },
  {
   "cell_type": "markdown",
   "metadata": {},
   "source": [
    "##### Total number of rows and columns in the dataset"
   ]
  },
  {
   "cell_type": "code",
   "execution_count": 37,
   "metadata": {},
   "outputs": [
    {
     "name": "stdout",
     "output_type": "stream",
     "text": [
      "Number of rows : 181691\n",
      "Number of columns : 135\n"
     ]
    }
   ],
   "source": [
    "print(f\"Number of rows : {df.shape[0]}\")\n",
    "print(f\"Number of columns : {df.shape[1]}\")"
   ]
  },
  {
   "cell_type": "markdown",
   "metadata": {},
   "source": [
    "##### General Information of the columns"
   ]
  },
  {
   "cell_type": "code",
   "execution_count": 5,
   "metadata": {},
   "outputs": [
    {
     "name": "stdout",
     "output_type": "stream",
     "text": [
      "<class 'pandas.core.frame.DataFrame'>\n",
      "RangeIndex: 181691 entries, 0 to 181690\n",
      "Columns: 135 entries, eventid to related\n",
      "dtypes: float64(55), int64(22), object(58)\n",
      "memory usage: 187.1+ MB\n"
     ]
    }
   ],
   "source": [
    "df.info()"
   ]
  },
  {
   "cell_type": "markdown",
   "metadata": {},
   "source": [
    "##### Datatype of the Columns"
   ]
  },
  {
   "cell_type": "code",
   "execution_count": 6,
   "metadata": {},
   "outputs": [
    {
     "data": {
      "text/plain": [
       "eventid        int64\n",
       "iyear          int64\n",
       "imonth         int64\n",
       "iday           int64\n",
       "approxdate    object\n",
       "               ...  \n",
       "INT_LOG        int64\n",
       "INT_IDEO       int64\n",
       "INT_MISC       int64\n",
       "INT_ANY        int64\n",
       "related       object\n",
       "Length: 135, dtype: object"
      ]
     },
     "execution_count": 6,
     "metadata": {},
     "output_type": "execute_result"
    }
   ],
   "source": [
    "df.dtypes"
   ]
  },
  {
   "cell_type": "markdown",
   "metadata": {},
   "source": [
    "##### Column names"
   ]
  },
  {
   "cell_type": "code",
   "execution_count": 7,
   "metadata": {},
   "outputs": [
    {
     "data": {
      "text/plain": [
       "Index(['eventid', 'iyear', 'imonth', 'iday', 'approxdate', 'extended',\n",
       "       'resolution', 'country', 'country_txt', 'region',\n",
       "       ...\n",
       "       'addnotes', 'scite1', 'scite2', 'scite3', 'dbsource', 'INT_LOG',\n",
       "       'INT_IDEO', 'INT_MISC', 'INT_ANY', 'related'],\n",
       "      dtype='object', length=135)"
      ]
     },
     "execution_count": 7,
     "metadata": {},
     "output_type": "execute_result"
    }
   ],
   "source": [
    "df.columns"
   ]
  },
  {
   "cell_type": "markdown",
   "metadata": {},
   "source": [
    "##### Statistical Description of the data"
   ]
  },
  {
   "cell_type": "code",
   "execution_count": 8,
   "metadata": {},
   "outputs": [
    {
     "data": {
      "text/html": [
       "<div>\n",
       "<style scoped>\n",
       "    .dataframe tbody tr th:only-of-type {\n",
       "        vertical-align: middle;\n",
       "    }\n",
       "\n",
       "    .dataframe tbody tr th {\n",
       "        vertical-align: top;\n",
       "    }\n",
       "\n",
       "    .dataframe thead th {\n",
       "        text-align: right;\n",
       "    }\n",
       "</style>\n",
       "<table border=\"1\" class=\"dataframe\">\n",
       "  <thead>\n",
       "    <tr style=\"text-align: right;\">\n",
       "      <th></th>\n",
       "      <th>eventid</th>\n",
       "      <th>iyear</th>\n",
       "      <th>imonth</th>\n",
       "      <th>iday</th>\n",
       "      <th>extended</th>\n",
       "      <th>country</th>\n",
       "      <th>region</th>\n",
       "      <th>latitude</th>\n",
       "      <th>longitude</th>\n",
       "      <th>specificity</th>\n",
       "      <th>...</th>\n",
       "      <th>ransomamt</th>\n",
       "      <th>ransomamtus</th>\n",
       "      <th>ransompaid</th>\n",
       "      <th>ransompaidus</th>\n",
       "      <th>hostkidoutcome</th>\n",
       "      <th>nreleased</th>\n",
       "      <th>INT_LOG</th>\n",
       "      <th>INT_IDEO</th>\n",
       "      <th>INT_MISC</th>\n",
       "      <th>INT_ANY</th>\n",
       "    </tr>\n",
       "  </thead>\n",
       "  <tbody>\n",
       "    <tr>\n",
       "      <th>count</th>\n",
       "      <td>1.816910e+05</td>\n",
       "      <td>181691.000000</td>\n",
       "      <td>181691.000000</td>\n",
       "      <td>181691.000000</td>\n",
       "      <td>181691.000000</td>\n",
       "      <td>181691.000000</td>\n",
       "      <td>181691.000000</td>\n",
       "      <td>177135.000000</td>\n",
       "      <td>1.771340e+05</td>\n",
       "      <td>181685.000000</td>\n",
       "      <td>...</td>\n",
       "      <td>1.350000e+03</td>\n",
       "      <td>5.630000e+02</td>\n",
       "      <td>7.740000e+02</td>\n",
       "      <td>552.000000</td>\n",
       "      <td>10991.000000</td>\n",
       "      <td>10400.000000</td>\n",
       "      <td>181691.000000</td>\n",
       "      <td>181691.000000</td>\n",
       "      <td>181691.000000</td>\n",
       "      <td>181691.000000</td>\n",
       "    </tr>\n",
       "    <tr>\n",
       "      <th>mean</th>\n",
       "      <td>2.002705e+11</td>\n",
       "      <td>2002.638997</td>\n",
       "      <td>6.467277</td>\n",
       "      <td>15.505644</td>\n",
       "      <td>0.045346</td>\n",
       "      <td>131.968501</td>\n",
       "      <td>7.160938</td>\n",
       "      <td>23.498343</td>\n",
       "      <td>-4.586957e+02</td>\n",
       "      <td>1.451452</td>\n",
       "      <td>...</td>\n",
       "      <td>3.172530e+06</td>\n",
       "      <td>5.784865e+05</td>\n",
       "      <td>7.179437e+05</td>\n",
       "      <td>240.378623</td>\n",
       "      <td>4.629242</td>\n",
       "      <td>-29.018269</td>\n",
       "      <td>-4.543731</td>\n",
       "      <td>-4.464398</td>\n",
       "      <td>0.090010</td>\n",
       "      <td>-3.945952</td>\n",
       "    </tr>\n",
       "    <tr>\n",
       "      <th>std</th>\n",
       "      <td>1.325957e+09</td>\n",
       "      <td>13.259430</td>\n",
       "      <td>3.388303</td>\n",
       "      <td>8.814045</td>\n",
       "      <td>0.208063</td>\n",
       "      <td>112.414535</td>\n",
       "      <td>2.933408</td>\n",
       "      <td>18.569242</td>\n",
       "      <td>2.047790e+05</td>\n",
       "      <td>0.995430</td>\n",
       "      <td>...</td>\n",
       "      <td>3.021157e+07</td>\n",
       "      <td>7.077924e+06</td>\n",
       "      <td>1.014392e+07</td>\n",
       "      <td>2940.967293</td>\n",
       "      <td>2.035360</td>\n",
       "      <td>65.720119</td>\n",
       "      <td>4.543547</td>\n",
       "      <td>4.637152</td>\n",
       "      <td>0.568457</td>\n",
       "      <td>4.691325</td>\n",
       "    </tr>\n",
       "    <tr>\n",
       "      <th>min</th>\n",
       "      <td>1.970000e+11</td>\n",
       "      <td>1970.000000</td>\n",
       "      <td>0.000000</td>\n",
       "      <td>0.000000</td>\n",
       "      <td>0.000000</td>\n",
       "      <td>4.000000</td>\n",
       "      <td>1.000000</td>\n",
       "      <td>-53.154613</td>\n",
       "      <td>-8.618590e+07</td>\n",
       "      <td>1.000000</td>\n",
       "      <td>...</td>\n",
       "      <td>-9.900000e+01</td>\n",
       "      <td>-9.900000e+01</td>\n",
       "      <td>-9.900000e+01</td>\n",
       "      <td>-99.000000</td>\n",
       "      <td>1.000000</td>\n",
       "      <td>-99.000000</td>\n",
       "      <td>-9.000000</td>\n",
       "      <td>-9.000000</td>\n",
       "      <td>-9.000000</td>\n",
       "      <td>-9.000000</td>\n",
       "    </tr>\n",
       "    <tr>\n",
       "      <th>25%</th>\n",
       "      <td>1.991021e+11</td>\n",
       "      <td>1991.000000</td>\n",
       "      <td>4.000000</td>\n",
       "      <td>8.000000</td>\n",
       "      <td>0.000000</td>\n",
       "      <td>78.000000</td>\n",
       "      <td>5.000000</td>\n",
       "      <td>11.510046</td>\n",
       "      <td>4.545640e+00</td>\n",
       "      <td>1.000000</td>\n",
       "      <td>...</td>\n",
       "      <td>0.000000e+00</td>\n",
       "      <td>0.000000e+00</td>\n",
       "      <td>-9.900000e+01</td>\n",
       "      <td>0.000000</td>\n",
       "      <td>2.000000</td>\n",
       "      <td>-99.000000</td>\n",
       "      <td>-9.000000</td>\n",
       "      <td>-9.000000</td>\n",
       "      <td>0.000000</td>\n",
       "      <td>-9.000000</td>\n",
       "    </tr>\n",
       "    <tr>\n",
       "      <th>50%</th>\n",
       "      <td>2.009022e+11</td>\n",
       "      <td>2009.000000</td>\n",
       "      <td>6.000000</td>\n",
       "      <td>15.000000</td>\n",
       "      <td>0.000000</td>\n",
       "      <td>98.000000</td>\n",
       "      <td>6.000000</td>\n",
       "      <td>31.467463</td>\n",
       "      <td>4.324651e+01</td>\n",
       "      <td>1.000000</td>\n",
       "      <td>...</td>\n",
       "      <td>1.500000e+04</td>\n",
       "      <td>0.000000e+00</td>\n",
       "      <td>0.000000e+00</td>\n",
       "      <td>0.000000</td>\n",
       "      <td>4.000000</td>\n",
       "      <td>0.000000</td>\n",
       "      <td>-9.000000</td>\n",
       "      <td>-9.000000</td>\n",
       "      <td>0.000000</td>\n",
       "      <td>0.000000</td>\n",
       "    </tr>\n",
       "    <tr>\n",
       "      <th>75%</th>\n",
       "      <td>2.014081e+11</td>\n",
       "      <td>2014.000000</td>\n",
       "      <td>9.000000</td>\n",
       "      <td>23.000000</td>\n",
       "      <td>0.000000</td>\n",
       "      <td>160.000000</td>\n",
       "      <td>10.000000</td>\n",
       "      <td>34.685087</td>\n",
       "      <td>6.871033e+01</td>\n",
       "      <td>1.000000</td>\n",
       "      <td>...</td>\n",
       "      <td>4.000000e+05</td>\n",
       "      <td>0.000000e+00</td>\n",
       "      <td>1.273412e+03</td>\n",
       "      <td>0.000000</td>\n",
       "      <td>7.000000</td>\n",
       "      <td>1.000000</td>\n",
       "      <td>0.000000</td>\n",
       "      <td>0.000000</td>\n",
       "      <td>0.000000</td>\n",
       "      <td>0.000000</td>\n",
       "    </tr>\n",
       "    <tr>\n",
       "      <th>max</th>\n",
       "      <td>2.017123e+11</td>\n",
       "      <td>2017.000000</td>\n",
       "      <td>12.000000</td>\n",
       "      <td>31.000000</td>\n",
       "      <td>1.000000</td>\n",
       "      <td>1004.000000</td>\n",
       "      <td>12.000000</td>\n",
       "      <td>74.633553</td>\n",
       "      <td>1.793667e+02</td>\n",
       "      <td>5.000000</td>\n",
       "      <td>...</td>\n",
       "      <td>1.000000e+09</td>\n",
       "      <td>1.320000e+08</td>\n",
       "      <td>2.750000e+08</td>\n",
       "      <td>48000.000000</td>\n",
       "      <td>7.000000</td>\n",
       "      <td>2769.000000</td>\n",
       "      <td>1.000000</td>\n",
       "      <td>1.000000</td>\n",
       "      <td>1.000000</td>\n",
       "      <td>1.000000</td>\n",
       "    </tr>\n",
       "  </tbody>\n",
       "</table>\n",
       "<p>8 rows × 77 columns</p>\n",
       "</div>"
      ],
      "text/plain": [
       "            eventid          iyear         imonth           iday  \\\n",
       "count  1.816910e+05  181691.000000  181691.000000  181691.000000   \n",
       "mean   2.002705e+11    2002.638997       6.467277      15.505644   \n",
       "std    1.325957e+09      13.259430       3.388303       8.814045   \n",
       "min    1.970000e+11    1970.000000       0.000000       0.000000   \n",
       "25%    1.991021e+11    1991.000000       4.000000       8.000000   \n",
       "50%    2.009022e+11    2009.000000       6.000000      15.000000   \n",
       "75%    2.014081e+11    2014.000000       9.000000      23.000000   \n",
       "max    2.017123e+11    2017.000000      12.000000      31.000000   \n",
       "\n",
       "            extended        country         region       latitude  \\\n",
       "count  181691.000000  181691.000000  181691.000000  177135.000000   \n",
       "mean        0.045346     131.968501       7.160938      23.498343   \n",
       "std         0.208063     112.414535       2.933408      18.569242   \n",
       "min         0.000000       4.000000       1.000000     -53.154613   \n",
       "25%         0.000000      78.000000       5.000000      11.510046   \n",
       "50%         0.000000      98.000000       6.000000      31.467463   \n",
       "75%         0.000000     160.000000      10.000000      34.685087   \n",
       "max         1.000000    1004.000000      12.000000      74.633553   \n",
       "\n",
       "          longitude    specificity  ...     ransomamt   ransomamtus  \\\n",
       "count  1.771340e+05  181685.000000  ...  1.350000e+03  5.630000e+02   \n",
       "mean  -4.586957e+02       1.451452  ...  3.172530e+06  5.784865e+05   \n",
       "std    2.047790e+05       0.995430  ...  3.021157e+07  7.077924e+06   \n",
       "min   -8.618590e+07       1.000000  ... -9.900000e+01 -9.900000e+01   \n",
       "25%    4.545640e+00       1.000000  ...  0.000000e+00  0.000000e+00   \n",
       "50%    4.324651e+01       1.000000  ...  1.500000e+04  0.000000e+00   \n",
       "75%    6.871033e+01       1.000000  ...  4.000000e+05  0.000000e+00   \n",
       "max    1.793667e+02       5.000000  ...  1.000000e+09  1.320000e+08   \n",
       "\n",
       "         ransompaid  ransompaidus  hostkidoutcome     nreleased  \\\n",
       "count  7.740000e+02    552.000000    10991.000000  10400.000000   \n",
       "mean   7.179437e+05    240.378623        4.629242    -29.018269   \n",
       "std    1.014392e+07   2940.967293        2.035360     65.720119   \n",
       "min   -9.900000e+01    -99.000000        1.000000    -99.000000   \n",
       "25%   -9.900000e+01      0.000000        2.000000    -99.000000   \n",
       "50%    0.000000e+00      0.000000        4.000000      0.000000   \n",
       "75%    1.273412e+03      0.000000        7.000000      1.000000   \n",
       "max    2.750000e+08  48000.000000        7.000000   2769.000000   \n",
       "\n",
       "             INT_LOG       INT_IDEO       INT_MISC        INT_ANY  \n",
       "count  181691.000000  181691.000000  181691.000000  181691.000000  \n",
       "mean       -4.543731      -4.464398       0.090010      -3.945952  \n",
       "std         4.543547       4.637152       0.568457       4.691325  \n",
       "min        -9.000000      -9.000000      -9.000000      -9.000000  \n",
       "25%        -9.000000      -9.000000       0.000000      -9.000000  \n",
       "50%        -9.000000      -9.000000       0.000000       0.000000  \n",
       "75%         0.000000       0.000000       0.000000       0.000000  \n",
       "max         1.000000       1.000000       1.000000       1.000000  \n",
       "\n",
       "[8 rows x 77 columns]"
      ]
     },
     "execution_count": 8,
     "metadata": {},
     "output_type": "execute_result"
    }
   ],
   "source": [
    "df.describe()"
   ]
  },
  {
   "cell_type": "markdown",
   "metadata": {},
   "source": [
    "##### Number of unique labels in each column of the data"
   ]
  },
  {
   "cell_type": "code",
   "execution_count": 33,
   "metadata": {},
   "outputs": [
    {
     "data": {
      "text/plain": [
       "eventid       181691\n",
       "iyear             47\n",
       "imonth            13\n",
       "iday              32\n",
       "approxdate      2244\n",
       "               ...  \n",
       "INT_LOG            3\n",
       "INT_IDEO           3\n",
       "INT_MISC           3\n",
       "INT_ANY            3\n",
       "related        14306\n",
       "Length: 135, dtype: int64"
      ]
     },
     "execution_count": 33,
     "metadata": {},
     "output_type": "execute_result"
    }
   ],
   "source": [
    "df.nunique()"
   ]
  },
  {
   "cell_type": "markdown",
   "metadata": {},
   "source": [
    "##### Checking for duplicates"
   ]
  },
  {
   "cell_type": "code",
   "execution_count": 38,
   "metadata": {},
   "outputs": [
    {
     "data": {
      "text/plain": [
       "0"
      ]
     },
     "execution_count": 38,
     "metadata": {},
     "output_type": "execute_result"
    }
   ],
   "source": [
    "df.duplicated().sum()"
   ]
  },
  {
   "cell_type": "markdown",
   "metadata": {},
   "source": [
    "##### Checking for null values"
   ]
  },
  {
   "cell_type": "code",
   "execution_count": 39,
   "metadata": {},
   "outputs": [
    {
     "data": {
      "text/plain": [
       "eventid       False\n",
       "iyear         False\n",
       "imonth        False\n",
       "iday          False\n",
       "approxdate     True\n",
       "              ...  \n",
       "INT_LOG       False\n",
       "INT_IDEO      False\n",
       "INT_MISC      False\n",
       "INT_ANY       False\n",
       "related        True\n",
       "Length: 135, dtype: bool"
      ]
     },
     "execution_count": 39,
     "metadata": {},
     "output_type": "execute_result"
    }
   ],
   "source": [
    "df.isna().any()"
   ]
  },
  {
   "cell_type": "markdown",
   "metadata": {},
   "source": [
    "##### Identifying Numeric and Categorical Columns"
   ]
  },
  {
   "cell_type": "code",
   "execution_count": 77,
   "metadata": {},
   "outputs": [],
   "source": [
    "def splitcols(data):\n",
    "    num_cols = data.select_dtypes(include = np.number).columns\n",
    "    cat_cols = data.select_dtypes(exclude = np.number).columns\n",
    "      \n",
    "    return(num_cols, cat_cols)\n",
    "    "
   ]
  },
  {
   "cell_type": "code",
   "execution_count": 78,
   "metadata": {},
   "outputs": [
    {
     "name": "stdout",
     "output_type": "stream",
     "text": [
      "Numeric columns are:\n",
      " Index(['eventid', 'iyear', 'imonth', 'iday', 'extended', 'country', 'region',\n",
      "       'latitude', 'longitude', 'specificity', 'vicinity', 'crit1', 'crit2',\n",
      "       'crit3', 'doubtterr', 'alternative', 'multiple', 'success', 'suicide',\n",
      "       'attacktype1', 'attacktype2', 'attacktype3', 'targtype1',\n",
      "       'targsubtype1', 'natlty1', 'targtype2', 'targsubtype2', 'natlty2',\n",
      "       'targtype3', 'targsubtype3', 'natlty3', 'guncertain1', 'guncertain2',\n",
      "       'guncertain3', 'individual', 'nperps', 'nperpcap', 'claimed',\n",
      "       'claimmode', 'claim2', 'claimmode2', 'claim3', 'claimmode3',\n",
      "       'compclaim', 'weaptype1', 'weapsubtype1', 'weaptype2', 'weapsubtype2',\n",
      "       'weaptype3', 'weapsubtype3', 'weaptype4', 'weapsubtype4', 'nkill',\n",
      "       'nkillus', 'nkillter', 'nwound', 'nwoundus', 'nwoundte', 'property',\n",
      "       'propextent', 'propvalue', 'ishostkid', 'nhostkid', 'nhostkidus',\n",
      "       'nhours', 'ndays', 'ransom', 'ransomamt', 'ransomamtus', 'ransompaid',\n",
      "       'ransompaidus', 'hostkidoutcome', 'nreleased', 'INT_LOG', 'INT_IDEO',\n",
      "       'INT_MISC', 'INT_ANY'],\n",
      "      dtype='object')\n",
      "\n",
      "\n",
      "Categorical columns are:\n",
      " Index(['approxdate', 'resolution', 'country_txt', 'region_txt', 'provstate',\n",
      "       'city', 'location', 'summary', 'alternative_txt', 'attacktype1_txt',\n",
      "       'attacktype2_txt', 'attacktype3_txt', 'targtype1_txt',\n",
      "       'targsubtype1_txt', 'corp1', 'target1', 'natlty1_txt', 'targtype2_txt',\n",
      "       'targsubtype2_txt', 'corp2', 'target2', 'natlty2_txt', 'targtype3_txt',\n",
      "       'targsubtype3_txt', 'corp3', 'target3', 'natlty3_txt', 'gname',\n",
      "       'gsubname', 'gname2', 'gsubname2', 'gname3', 'gsubname3', 'motive',\n",
      "       'claimmode_txt', 'claimmode2_txt', 'claimmode3_txt', 'weaptype1_txt',\n",
      "       'weapsubtype1_txt', 'weaptype2_txt', 'weapsubtype2_txt',\n",
      "       'weaptype3_txt', 'weapsubtype3_txt', 'weaptype4_txt',\n",
      "       'weapsubtype4_txt', 'weapdetail', 'propextent_txt', 'propcomment',\n",
      "       'divert', 'kidhijcountry', 'ransomnote', 'hostkidoutcome_txt',\n",
      "       'addnotes', 'scite1', 'scite2', 'scite3', 'dbsource', 'related'],\n",
      "      dtype='object')\n"
     ]
    }
   ],
   "source": [
    "num_cols, cat_cols = splitcols(df)\n",
    "print(\"Numeric columns are:\\n\", num_cols)\n",
    "print(\"\\n\")\n",
    "print(\"Categorical columns are:\\n\", cat_cols)"
   ]
  },
  {
   "cell_type": "markdown",
   "metadata": {},
   "source": [
    "##### Creatng a Dataframe of Numeric Columns"
   ]
  },
  {
   "cell_type": "code",
   "execution_count": 42,
   "metadata": {},
   "outputs": [],
   "source": [
    "numeric_df = pd.DataFrame({'eventid':df.eventid, 'iyear':df.iyear, 'imonth':df.imonth,\n",
    "                           'iday':df.iday, 'extended': df.extended, 'country': df.country,\n",
    "                           'region': df.region, 'latitude':df.latitude, 'longitude': df.longitude,\n",
    "                           'specificity': df.specificity, 'vicinity':df.vicinity,\n",
    "                           'crit1': df.crit1, 'crit2':df.crit2, 'crit3': df.crit3,\n",
    "                           'doubtterr': df.doubtterr, 'alternative': df.alternative,\n",
    "                           'multiple': df.multiple, 'success': df.success, 'suicide': df.suicide,\n",
    "                           'attacktype1': df.attacktype1, 'attacktype2': df.attacktype2,\n",
    "                           'attacktype3': df.attacktype3, 'targtype1': df.targtype1,\n",
    "                           'targsubtype1':df. targsubtype1, 'natlty1': df.natlty1,\n",
    "                           'targtype2': df.targtype2, 'targsubtype2': df.targsubtype2,\n",
    "                           'natlty2': df.natlty2, 'targtype3': df.targtype3,\n",
    "                           'targsubtype3': df.targsubtype3, 'natlty3': df.natlty3,\n",
    "                           'guncertain1': df.guncertain1, 'guncertain2': df.guncertain2,\n",
    "                           'guncertain3': df.guncertain3, 'individual' : df.individual,\n",
    "                           'nperps': df.nperps, 'nperpcap': df.nperpcap, 'claimed':df.claimed,\n",
    "                           'claimmode': df.claimmode, 'claim2': df.claim2,\n",
    "                           'claimmode2': df.claimmode2, 'claim3': df.claim3,\n",
    "                           'claimmode3': df.claimmode3, 'compclaim': df.compclaim,\n",
    "                           'weaptype1': df.weaptype1, 'weapsubtype1' : df.weapsubtype1,\n",
    "                           'weaptype2': df.weaptype2, 'weapsubtype2': df.weapsubtype2,\n",
    "                           'weaptype3': df.weaptype3, 'weapsubtype3': df.weapsubtype3,\n",
    "                           'weaptype4': df.weaptype4, 'weapsubtype4': df.weapsubtype4,\n",
    "                           'nkill': df.nkill, 'nkillus': df.nkillus, 'nkillter': df.nkillter,\n",
    "                           'nwound': df.nwound, 'nwoundus': df.nwoundus, 'nwoundte': df.nwoundte,\n",
    "                           'property': df.property, 'propextent': df.propextent,\n",
    "                           'propvalue': df.propvalue, 'ishostkid': df.ishostkid,\n",
    "                           'nhostkid': df.nhostkid, 'nhostkidus': df.nhostkidus,\n",
    "                           'nhours': df.nhours, 'ndays': df.ndays, 'ransom': df.ransom,\n",
    "                           'ransomamt': df.ransomamt, 'ransomamtus': df.ransomamtus,\n",
    "                           'ransompaid': df.ransompaid, 'ransompaidus': df.ransompaidus,\n",
    "                           'hostkidoutcome': df.hostkidoutcome, 'nreleased': df.nreleased,\n",
    "                           'INT_LOG': df.INT_LOG, 'INT_IDEO': df.INT_IDEO,\n",
    "                           'INT_MISC': df.INT_MISC, 'INT_ANY': df.INT_ANY})"
   ]
  },
  {
   "cell_type": "code",
   "execution_count": 43,
   "metadata": {},
   "outputs": [
    {
     "name": "stdout",
     "output_type": "stream",
     "text": [
      "<class 'pandas.core.frame.DataFrame'>\n",
      "RangeIndex: 181691 entries, 0 to 181690\n",
      "Data columns (total 77 columns):\n",
      " #   Column          Non-Null Count   Dtype  \n",
      "---  ------          --------------   -----  \n",
      " 0   eventid         181691 non-null  int64  \n",
      " 1   iyear           181691 non-null  int64  \n",
      " 2   imonth          181691 non-null  int64  \n",
      " 3   iday            181691 non-null  int64  \n",
      " 4   extended        181691 non-null  int64  \n",
      " 5   country         181691 non-null  int64  \n",
      " 6   region          181691 non-null  int64  \n",
      " 7   latitude        177135 non-null  float64\n",
      " 8   longitude       177134 non-null  float64\n",
      " 9   specificity     181685 non-null  float64\n",
      " 10  vicinity        181691 non-null  int64  \n",
      " 11  crit1           181691 non-null  int64  \n",
      " 12  crit2           181691 non-null  int64  \n",
      " 13  crit3           181691 non-null  int64  \n",
      " 14  doubtterr       181690 non-null  float64\n",
      " 15  alternative     29011 non-null   float64\n",
      " 16  multiple        181690 non-null  float64\n",
      " 17  success         181691 non-null  int64  \n",
      " 18  suicide         181691 non-null  int64  \n",
      " 19  attacktype1     181691 non-null  int64  \n",
      " 20  attacktype2     6314 non-null    float64\n",
      " 21  attacktype3     428 non-null     float64\n",
      " 22  targtype1       181691 non-null  int64  \n",
      " 23  targsubtype1    171318 non-null  float64\n",
      " 24  natlty1         180132 non-null  float64\n",
      " 25  targtype2       11144 non-null   float64\n",
      " 26  targsubtype2    10685 non-null   float64\n",
      " 27  natlty2         10828 non-null   float64\n",
      " 28  targtype3       1176 non-null    float64\n",
      " 29  targsubtype3    1097 non-null    float64\n",
      " 30  natlty3         1147 non-null    float64\n",
      " 31  guncertain1     181311 non-null  float64\n",
      " 32  guncertain2     1955 non-null    float64\n",
      " 33  guncertain3     320 non-null     float64\n",
      " 34  individual      181691 non-null  int64  \n",
      " 35  nperps          110576 non-null  float64\n",
      " 36  nperpcap        112202 non-null  float64\n",
      " 37  claimed         115571 non-null  float64\n",
      " 38  claimmode       19083 non-null   float64\n",
      " 39  claim2          1890 non-null    float64\n",
      " 40  claimmode2      616 non-null     float64\n",
      " 41  claim3          318 non-null     float64\n",
      " 42  claimmode3      133 non-null     float64\n",
      " 43  compclaim       4839 non-null    float64\n",
      " 44  weaptype1       181691 non-null  int64  \n",
      " 45  weapsubtype1    160923 non-null  float64\n",
      " 46  weaptype2       13127 non-null   float64\n",
      " 47  weapsubtype2    11542 non-null   float64\n",
      " 48  weaptype3       1863 non-null    float64\n",
      " 49  weapsubtype3    1693 non-null    float64\n",
      " 50  weaptype4       73 non-null      float64\n",
      " 51  weapsubtype4    70 non-null      float64\n",
      " 52  nkill           171378 non-null  float64\n",
      " 53  nkillus         117245 non-null  float64\n",
      " 54  nkillter        114733 non-null  float64\n",
      " 55  nwound          165380 non-null  float64\n",
      " 56  nwoundus        116989 non-null  float64\n",
      " 57  nwoundte        112548 non-null  float64\n",
      " 58  property        181691 non-null  int64  \n",
      " 59  propextent      64065 non-null   float64\n",
      " 60  propvalue       38989 non-null   float64\n",
      " 61  ishostkid       181513 non-null  float64\n",
      " 62  nhostkid        13572 non-null   float64\n",
      " 63  nhostkidus      13517 non-null   float64\n",
      " 64  nhours          4063 non-null    float64\n",
      " 65  ndays           8124 non-null    float64\n",
      " 66  ransom          77381 non-null   float64\n",
      " 67  ransomamt       1350 non-null    float64\n",
      " 68  ransomamtus     563 non-null     float64\n",
      " 69  ransompaid      774 non-null     float64\n",
      " 70  ransompaidus    552 non-null     float64\n",
      " 71  hostkidoutcome  10991 non-null   float64\n",
      " 72  nreleased       10400 non-null   float64\n",
      " 73  INT_LOG         181691 non-null  int64  \n",
      " 74  INT_IDEO        181691 non-null  int64  \n",
      " 75  INT_MISC        181691 non-null  int64  \n",
      " 76  INT_ANY         181691 non-null  int64  \n",
      "dtypes: float64(55), int64(22)\n",
      "memory usage: 106.7 MB\n"
     ]
    }
   ],
   "source": [
    "numeric_df.info()"
   ]
  },
  {
   "cell_type": "markdown",
   "metadata": {},
   "source": [
    "##### Columns having huge number of null values : \n",
    "###### these columns can be dropped, since they have more than 1,50,000 Null values.\n",
    "If we impute these null values then the entire data will be manipulated and the analysis won't give proper results\n",
    "\n",
    "alternative,nreleased,hostkidoutcome, ransompaidus, ransompaid,  ransomamt, ransomamtus, ndays, nhours, nhostkid, nhostkidus, propvalue, weaptype2,weapsubtype2, weaptype3, weapsubtype3, weaptype4, weapsubtype4, claimmode, claim2, claimmode2, claim3, claimmode3, compclaim, guncertain2, guncertain3, targsubtype2, natlty2, targtype3, targsubtype3, natlty3 , attacktype2, attacktype3, alternative, targtype2,eventid"
   ]
  },
  {
   "cell_type": "code",
   "execution_count": 44,
   "metadata": {},
   "outputs": [],
   "source": [
    "numeric_df.drop([\"eventid\",'alternative','nreleased','hostkidoutcome', 'ransompaidus', 'ransompaid', 'ransomamt', 'ransomamtus', 'ndays', 'nhours', 'nhostkid', 'nhostkidus', 'propvalue', 'weaptype2','weapsubtype2', 'weaptype3', 'weapsubtype3', 'weaptype4', 'weapsubtype4', 'claimmode', 'claim2', 'claimmode2', 'claim3', 'claimmode3', 'compclaim', 'guncertain2', 'guncertain3',\"natlty3\",\"targtype2\", 'targsubtype2', 'natlty2',  'targtype3', 'targsubtype3', 'attacktype2', 'attacktype3', 'alternative'], axis = 1, inplace= True)"
   ]
  },
  {
   "cell_type": "code",
   "execution_count": 45,
   "metadata": {},
   "outputs": [
    {
     "name": "stdout",
     "output_type": "stream",
     "text": [
      "<class 'pandas.core.frame.DataFrame'>\n",
      "RangeIndex: 181691 entries, 0 to 181690\n",
      "Data columns (total 42 columns):\n",
      " #   Column        Non-Null Count   Dtype  \n",
      "---  ------        --------------   -----  \n",
      " 0   iyear         181691 non-null  int64  \n",
      " 1   imonth        181691 non-null  int64  \n",
      " 2   iday          181691 non-null  int64  \n",
      " 3   extended      181691 non-null  int64  \n",
      " 4   country       181691 non-null  int64  \n",
      " 5   region        181691 non-null  int64  \n",
      " 6   latitude      177135 non-null  float64\n",
      " 7   longitude     177134 non-null  float64\n",
      " 8   specificity   181685 non-null  float64\n",
      " 9   vicinity      181691 non-null  int64  \n",
      " 10  crit1         181691 non-null  int64  \n",
      " 11  crit2         181691 non-null  int64  \n",
      " 12  crit3         181691 non-null  int64  \n",
      " 13  doubtterr     181690 non-null  float64\n",
      " 14  multiple      181690 non-null  float64\n",
      " 15  success       181691 non-null  int64  \n",
      " 16  suicide       181691 non-null  int64  \n",
      " 17  attacktype1   181691 non-null  int64  \n",
      " 18  targtype1     181691 non-null  int64  \n",
      " 19  targsubtype1  171318 non-null  float64\n",
      " 20  natlty1       180132 non-null  float64\n",
      " 21  guncertain1   181311 non-null  float64\n",
      " 22  individual    181691 non-null  int64  \n",
      " 23  nperps        110576 non-null  float64\n",
      " 24  nperpcap      112202 non-null  float64\n",
      " 25  claimed       115571 non-null  float64\n",
      " 26  weaptype1     181691 non-null  int64  \n",
      " 27  weapsubtype1  160923 non-null  float64\n",
      " 28  nkill         171378 non-null  float64\n",
      " 29  nkillus       117245 non-null  float64\n",
      " 30  nkillter      114733 non-null  float64\n",
      " 31  nwound        165380 non-null  float64\n",
      " 32  nwoundus      116989 non-null  float64\n",
      " 33  nwoundte      112548 non-null  float64\n",
      " 34  property      181691 non-null  int64  \n",
      " 35  propextent    64065 non-null   float64\n",
      " 36  ishostkid     181513 non-null  float64\n",
      " 37  ransom        77381 non-null   float64\n",
      " 38  INT_LOG       181691 non-null  int64  \n",
      " 39  INT_IDEO      181691 non-null  int64  \n",
      " 40  INT_MISC      181691 non-null  int64  \n",
      " 41  INT_ANY       181691 non-null  int64  \n",
      "dtypes: float64(21), int64(21)\n",
      "memory usage: 58.2 MB\n"
     ]
    }
   ],
   "source": [
    "numeric_df.info()"
   ]
  },
  {
   "cell_type": "markdown",
   "metadata": {},
   "source": [
    "##### Remaining Numeric columns"
   ]
  },
  {
   "cell_type": "code",
   "execution_count": 46,
   "metadata": {},
   "outputs": [
    {
     "data": {
      "text/plain": [
       "Index(['iyear', 'imonth', 'iday', 'extended', 'country', 'region', 'latitude',\n",
       "       'longitude', 'specificity', 'vicinity', 'crit1', 'crit2', 'crit3',\n",
       "       'doubtterr', 'multiple', 'success', 'suicide', 'attacktype1',\n",
       "       'targtype1', 'targsubtype1', 'natlty1', 'guncertain1', 'individual',\n",
       "       'nperps', 'nperpcap', 'claimed', 'weaptype1', 'weapsubtype1', 'nkill',\n",
       "       'nkillus', 'nkillter', 'nwound', 'nwoundus', 'nwoundte', 'property',\n",
       "       'propextent', 'ishostkid', 'ransom', 'INT_LOG', 'INT_IDEO', 'INT_MISC',\n",
       "       'INT_ANY'],\n",
       "      dtype='object')"
      ]
     },
     "execution_count": 46,
     "metadata": {},
     "output_type": "execute_result"
    }
   ],
   "source": [
    "numeric_df.columns"
   ]
  },
  {
   "cell_type": "markdown",
   "metadata": {},
   "source": [
    "###### For remaining Numeric columns applying Iterative Imputer Using LinearRegression"
   ]
  },
  {
   "cell_type": "code",
   "execution_count": 47,
   "metadata": {},
   "outputs": [
    {
     "name": "stderr",
     "output_type": "stream",
     "text": [
      "C:\\Users\\miihi\\anaconda3\\lib\\site-packages\\sklearn\\impute\\_iterative.py:685: ConvergenceWarning: [IterativeImputer] Early stopping criterion not reached.\n",
      "  warnings.warn(\"[IterativeImputer] Early stopping criterion not\"\n"
     ]
    }
   ],
   "source": [
    "imputed_num_cols = IterativeImputer(estimator= LinearRegression())\n",
    "numeric_df[[ 'iyear', 'imonth', 'iday', 'extended', 'country', 'region',\n",
    "       'latitude', 'longitude', 'specificity', 'vicinity', 'crit1', 'crit2',\n",
    "       'crit3', 'doubtterr', 'multiple', 'success', 'suicide', 'attacktype1',\n",
    "       'targtype1', 'targsubtype1', 'natlty1', 'guncertain1', 'individual',\n",
    "       'nperps', 'nperpcap', 'claimed', 'weaptype1', 'weapsubtype1', 'nkill',\n",
    "       'nkillus', 'nkillter', 'nwound', 'nwoundus', 'nwoundte', 'property',\n",
    "       'propextent', 'ishostkid', 'ransom', 'INT_LOG', 'INT_IDEO', 'INT_MISC',\n",
    "       'INT_ANY']] = imputed_num_cols.fit_transform(numeric_df[['iyear', 'imonth', 'iday', 'extended', 'country', 'region',\n",
    "       'latitude', 'longitude', 'specificity', 'vicinity', 'crit1', 'crit2',\n",
    "       'crit3', 'doubtterr', 'multiple', 'success', 'suicide', 'attacktype1',\n",
    "       'targtype1', 'targsubtype1', 'natlty1', 'guncertain1', 'individual',\n",
    "       'nperps', 'nperpcap', 'claimed', 'weaptype1', 'weapsubtype1', 'nkill',\n",
    "       'nkillus', 'nkillter', 'nwound', 'nwoundus', 'nwoundte', 'property',\n",
    "       'propextent', 'ishostkid', 'ransom', 'INT_LOG', 'INT_IDEO', 'INT_MISC',\n",
    "       'INT_ANY']])"
   ]
  },
  {
   "cell_type": "code",
   "execution_count": 48,
   "metadata": {},
   "outputs": [
    {
     "data": {
      "text/plain": [
       "0"
      ]
     },
     "execution_count": 48,
     "metadata": {},
     "output_type": "execute_result"
    }
   ],
   "source": [
    "numeric_df.isna().sum().sum()"
   ]
  },
  {
   "cell_type": "markdown",
   "metadata": {},
   "source": [
    "##### Now done with imputation of Numeric columns.\n",
    "##### Now Factor Columns"
   ]
  },
  {
   "cell_type": "code",
   "execution_count": 49,
   "metadata": {},
   "outputs": [
    {
     "data": {
      "text/plain": [
       "Index(['approxdate', 'resolution', 'country_txt', 'region_txt', 'provstate',\n",
       "       'city', 'location', 'summary', 'alternative_txt', 'attacktype1_txt',\n",
       "       'attacktype2_txt', 'attacktype3_txt', 'targtype1_txt',\n",
       "       'targsubtype1_txt', 'corp1', 'target1', 'natlty1_txt', 'targtype2_txt',\n",
       "       'targsubtype2_txt', 'corp2', 'target2', 'natlty2_txt', 'targtype3_txt',\n",
       "       'targsubtype3_txt', 'corp3', 'target3', 'natlty3_txt', 'gname',\n",
       "       'gsubname', 'gname2', 'gsubname2', 'gname3', 'gsubname3', 'motive',\n",
       "       'claimmode_txt', 'claimmode2_txt', 'claimmode3_txt', 'weaptype1_txt',\n",
       "       'weapsubtype1_txt', 'weaptype2_txt', 'weapsubtype2_txt',\n",
       "       'weaptype3_txt', 'weapsubtype3_txt', 'weaptype4_txt',\n",
       "       'weapsubtype4_txt', 'weapdetail', 'propextent_txt', 'propcomment',\n",
       "       'divert', 'kidhijcountry', 'ransomnote', 'hostkidoutcome_txt',\n",
       "       'addnotes', 'scite1', 'scite2', 'scite3', 'dbsource', 'related'],\n",
       "      dtype='object')"
      ]
     },
     "execution_count": 49,
     "metadata": {},
     "output_type": "execute_result"
    }
   ],
   "source": [
    "cat_cols"
   ]
  },
  {
   "cell_type": "markdown",
   "metadata": {},
   "source": [
    "##### Creating a Dataframe of Factor columns"
   ]
  },
  {
   "cell_type": "code",
   "execution_count": 50,
   "metadata": {},
   "outputs": [],
   "source": [
    "factor_df = pd.DataFrame({'approxdate': df.approxdate, 'resolution': df.resolution,\n",
    "                          'country_txt': df.country_txt, 'region_txt': df.region_txt,\n",
    "                          'provstate': df.provstate,'city': df.city, 'location': df.location,\n",
    "                          'summary': df.summary, 'alternative_txt': df.alternative_txt,\n",
    "                          'attacktype1_txt': df.attacktype1_txt,'attacktype2_txt': df.attacktype2_txt,\n",
    "                          'attacktype3_txt': df.attacktype3_txt, 'targtype1_txt': df.targtype1_txt,\n",
    "                          'targsubtype1_txt': df.targsubtype1_txt, 'corp1': df.corp1,\n",
    "                          'target1': df.target1, 'natlty1_txt': df.natlty1_txt,\n",
    "                          'targtype2_txt': df.targtype2_txt,\n",
    "                          'targsubtype2_txt':df.targsubtype2_txt ,'corp2': df.corp2,\n",
    "                          'target2': df.target2, 'natlty2_txt': df.natlty2_txt,\n",
    "                          'targtype3_txt': df.targtype3_txt,'targsubtype3_txt': df.targsubtype3_txt,\n",
    "                          'corp3': df.corp3, 'target3': df.target3, 'natlty3_txt': df.natlty3_txt,\n",
    "                          'gname': df.gname, 'gsubname': df.gsubname, 'gname2': df.gname2,\n",
    "                          'gsubname2': df.gsubname2, 'gname3': df.gname3, 'gsubname3': df.gsubname3,\n",
    "                          'motive': df.motive, 'claimmode_txt': df.claimmode_txt,\n",
    "                          'claimmode2_txt': df.claimmode2_txt,\n",
    "                          'claimmode3_txt': df.claimmode3_txt, 'weaptype1_txt': df.weaptype1_txt,\n",
    "                          'weapsubtype1_txt': df.weapsubtype1_txt,\n",
    "                          'weaptype2_txt': df.weaptype2_txt,\n",
    "                          'weapsubtype2_txt': df.weapsubtype2_txt,\n",
    "                          'weaptype3_txt': df.weaptype3_txt,\n",
    "                          'weapsubtype3_txt': df.weapsubtype3_txt,\n",
    "                          'weaptype4_txt': df.weaptype4_txt,\n",
    "                          'weapsubtype4_txt': df.weapsubtype4_txt, 'weapdetail': df.weapdetail,\n",
    "                          'propextent_txt':df.propextent_txt,\n",
    "                          'propcomment': df.propcomment,\n",
    "                          'divert': df.divert, 'kidhijcountry': df.kidhijcountry,\n",
    "                          'ransomnote': df.ransomnote, 'hostkidoutcome_txt': df.hostkidoutcome_txt,\n",
    "                          'addnotes': df.addnotes, 'scite1': df.scite1, 'scite2': df.scite2, \n",
    "                          'scite3': df.scite3, 'dbsource': df.dbsource, 'related': df.related})"
   ]
  },
  {
   "cell_type": "markdown",
   "metadata": {},
   "source": [
    "##### Cehcking for nulls"
   ]
  },
  {
   "cell_type": "code",
   "execution_count": 52,
   "metadata": {},
   "outputs": [
    {
     "name": "stdout",
     "output_type": "stream",
     "text": [
      "<class 'pandas.core.frame.DataFrame'>\n",
      "RangeIndex: 181691 entries, 0 to 181690\n",
      "Data columns (total 58 columns):\n",
      " #   Column              Non-Null Count   Dtype \n",
      "---  ------              --------------   ----- \n",
      " 0   approxdate          9239 non-null    object\n",
      " 1   resolution          2220 non-null    object\n",
      " 2   country_txt         181691 non-null  object\n",
      " 3   region_txt          181691 non-null  object\n",
      " 4   provstate           181270 non-null  object\n",
      " 5   city                181257 non-null  object\n",
      " 6   location            55495 non-null   object\n",
      " 7   summary             115562 non-null  object\n",
      " 8   alternative_txt     29011 non-null   object\n",
      " 9   attacktype1_txt     181691 non-null  object\n",
      " 10  attacktype2_txt     6314 non-null    object\n",
      " 11  attacktype3_txt     428 non-null     object\n",
      " 12  targtype1_txt       181691 non-null  object\n",
      " 13  targsubtype1_txt    171318 non-null  object\n",
      " 14  corp1               139141 non-null  object\n",
      " 15  target1             181055 non-null  object\n",
      " 16  natlty1_txt         180132 non-null  object\n",
      " 17  targtype2_txt       11144 non-null   object\n",
      " 18  targsubtype2_txt    10685 non-null   object\n",
      " 19  corp2               10117 non-null   object\n",
      " 20  target2             11020 non-null   object\n",
      " 21  natlty2_txt         10828 non-null   object\n",
      " 22  targtype3_txt       1176 non-null    object\n",
      " 23  targsubtype3_txt    1097 non-null    object\n",
      " 24  corp3               1026 non-null    object\n",
      " 25  target3             1175 non-null    object\n",
      " 26  natlty3_txt         1147 non-null    object\n",
      " 27  gname               181691 non-null  object\n",
      " 28  gsubname            5890 non-null    object\n",
      " 29  gname2              2013 non-null    object\n",
      " 30  gsubname2           160 non-null     object\n",
      " 31  gname3              324 non-null     object\n",
      " 32  gsubname3           20 non-null      object\n",
      " 33  motive              50561 non-null   object\n",
      " 34  claimmode_txt       19083 non-null   object\n",
      " 35  claimmode2_txt      616 non-null     object\n",
      " 36  claimmode3_txt      133 non-null     object\n",
      " 37  weaptype1_txt       181691 non-null  object\n",
      " 38  weapsubtype1_txt    160923 non-null  object\n",
      " 39  weaptype2_txt       13127 non-null   object\n",
      " 40  weapsubtype2_txt    11542 non-null   object\n",
      " 41  weaptype3_txt       1863 non-null    object\n",
      " 42  weapsubtype3_txt    1693 non-null    object\n",
      " 43  weaptype4_txt       73 non-null      object\n",
      " 44  weapsubtype4_txt    70 non-null      object\n",
      " 45  weapdetail          114021 non-null  object\n",
      " 46  propextent_txt      64065 non-null   object\n",
      " 47  propcomment         57959 non-null   object\n",
      " 48  divert              324 non-null     object\n",
      " 49  kidhijcountry       3305 non-null    object\n",
      " 50  ransomnote          514 non-null     object\n",
      " 51  hostkidoutcome_txt  10991 non-null   object\n",
      " 52  addnotes            28289 non-null   object\n",
      " 53  scite1              115500 non-null  object\n",
      " 54  scite2              76933 non-null   object\n",
      " 55  scite3              43516 non-null   object\n",
      " 56  dbsource            181691 non-null  object\n",
      " 57  related             25038 non-null   object\n",
      "dtypes: object(58)\n",
      "memory usage: 80.4+ MB\n"
     ]
    }
   ],
   "source": [
    "factor_df.info()"
   ]
  },
  {
   "cell_type": "markdown",
   "metadata": {},
   "source": [
    "##### Columns having huge number of null values : \n",
    "###### these columns can be dropped, since they have more than 1,50,000 Null values.\n",
    "If we impute these null values then the entire data will be manipulated and the analysis won't give proper results\n",
    "\n",
    "'related', scite3, addnotes, divert, kidhijcountry, ransomnote, hostkidoutcome_txt,  weaptype2_txt, weapsubtype2_txt, weaptype3_txt, weapsubtype3_txt, weaptype4_txt, weapsubtype4_txt, claimmode_txt, claimmode2_txt, claimmode3_txt, gsubname, gname2, gsubname2, gname3, gsubname3, targtype2_txt, targsubtype2_txt, corp2, target2, natlty2_txt, targtype3_txt, targsubtype3_txt, corp3, target3, natlty3_txt , attacktype2_txt, attacktype3_txt, alternative_txt, approxdate, resolution"
   ]
  },
  {
   "cell_type": "code",
   "execution_count": 53,
   "metadata": {},
   "outputs": [],
   "source": [
    "factor_df.drop(columns=['related', 'scite3', 'addnotes', 'divert', 'kidhijcountry', 'ransomnote', 'hostkidoutcome_txt', 'weaptype2_txt', 'weapsubtype2_txt', 'weaptype3_txt', 'weapsubtype3_txt', 'weaptype4_txt', 'weapsubtype4_txt', 'claimmode_txt', 'claimmode2_txt', 'claimmode3_txt', 'gsubname', 'gname2', 'gsubname2', 'gname3', 'gsubname3', 'targtype2_txt', 'targsubtype2_txt', 'corp2', 'target2', 'natlty2_txt', 'targtype3_txt', 'targsubtype3_txt', 'corp3', 'target3', 'natlty3_txt' , 'attacktype2_txt', 'attacktype3_txt', 'alternative_txt', 'approxdate', 'resolution'], inplace= True)"
   ]
  },
  {
   "cell_type": "code",
   "execution_count": 54,
   "metadata": {},
   "outputs": [
    {
     "data": {
      "text/plain": [
       "country_txt              0\n",
       "region_txt               0\n",
       "provstate              421\n",
       "city                   434\n",
       "location            126196\n",
       "summary              66129\n",
       "attacktype1_txt          0\n",
       "targtype1_txt            0\n",
       "targsubtype1_txt     10373\n",
       "corp1                42550\n",
       "target1                636\n",
       "natlty1_txt           1559\n",
       "gname                    0\n",
       "motive              131130\n",
       "weaptype1_txt            0\n",
       "weapsubtype1_txt     20768\n",
       "weapdetail           67670\n",
       "propextent_txt      117626\n",
       "propcomment         123732\n",
       "scite1               66191\n",
       "scite2              104758\n",
       "dbsource                 0\n",
       "dtype: int64"
      ]
     },
     "execution_count": 54,
     "metadata": {},
     "output_type": "execute_result"
    }
   ],
   "source": [
    "factor_df.isna().sum()"
   ]
  },
  {
   "cell_type": "markdown",
   "metadata": {},
   "source": [
    "###### For remaining Factor columns with null values applying simple iterator using strategy='most_frequent'"
   ]
  },
  {
   "cell_type": "code",
   "execution_count": 55,
   "metadata": {},
   "outputs": [],
   "source": [
    "imputed_factor_col = SimpleImputer(strategy= 'most_frequent')"
   ]
  },
  {
   "cell_type": "code",
   "execution_count": 56,
   "metadata": {},
   "outputs": [],
   "source": [
    "factor_df[['provstate']] = imputed_factor_col.fit_transform(factor_df[['provstate']])\n",
    "factor_df[['location']] = imputed_factor_col.fit_transform(factor_df[['location']])\n",
    "factor_df[['city']] = imputed_factor_col.fit_transform(factor_df[['city']])\n",
    "factor_df[['summary']] = imputed_factor_col.fit_transform(factor_df[['summary']])\n",
    "factor_df[['targsubtype1_txt']] = imputed_factor_col.fit_transform(factor_df[['targsubtype1_txt']])\n",
    "factor_df[['corp1']] = imputed_factor_col.fit_transform(factor_df[['corp1']])\n",
    "factor_df[['target1']] = imputed_factor_col.fit_transform(factor_df[['target1']])\n",
    "factor_df[['motive']] = imputed_factor_col.fit_transform(factor_df[['motive']])\n",
    "factor_df[['weapsubtype1_txt']] = imputed_factor_col.fit_transform(factor_df[['weapsubtype1_txt']])\n",
    "factor_df[['weapdetail']] = imputed_factor_col.fit_transform(factor_df[['weapdetail']])\n",
    "factor_df[['propextent_txt']] = imputed_factor_col.fit_transform(factor_df[['propextent_txt']])\n",
    "factor_df[['propcomment']] = imputed_factor_col.fit_transform(factor_df[['propcomment']])\n",
    "factor_df[['scite1']] = imputed_factor_col.fit_transform(factor_df[['scite1']])\n",
    "factor_df[['scite2']] = imputed_factor_col.fit_transform(factor_df[['scite2']])\n",
    "factor_df[['natlty1_txt']] = imputed_factor_col.fit_transform(factor_df[['natlty1_txt']])\n"
   ]
  },
  {
   "cell_type": "code",
   "execution_count": 57,
   "metadata": {},
   "outputs": [
    {
     "data": {
      "text/plain": [
       "0"
      ]
     },
     "execution_count": 57,
     "metadata": {},
     "output_type": "execute_result"
    }
   ],
   "source": [
    "factor_df.isna().sum().sum()"
   ]
  },
  {
   "cell_type": "code",
   "execution_count": 58,
   "metadata": {},
   "outputs": [
    {
     "data": {
      "text/plain": [
       "0"
      ]
     },
     "execution_count": 58,
     "metadata": {},
     "output_type": "execute_result"
    }
   ],
   "source": [
    "numeric_df.isna().sum().sum()"
   ]
  },
  {
   "cell_type": "markdown",
   "metadata": {},
   "source": [
    "##### Generating a Non Null Data frame by concatenating all these factor and numeric columns"
   ]
  },
  {
   "cell_type": "code",
   "execution_count": 59,
   "metadata": {},
   "outputs": [
    {
     "name": "stdout",
     "output_type": "stream",
     "text": [
      "Number of rows : 181691\n",
      "Number of columns : 64\n",
      "NUlls: 0\n"
     ]
    }
   ],
   "source": [
    "df_clean = pd.concat([numeric_df, factor_df], axis=1)\n",
    "print(f\"Number of rows : {df_clean.shape[0]}\")\n",
    "print(f\"Number of columns : {df_clean.shape[1]}\")\n",
    "print(\"NUlls:\",df_clean.isna().sum().sum())"
   ]
  },
  {
   "cell_type": "markdown",
   "metadata": {},
   "source": [
    "So initially we had 135 columns and after droping the columns with more than 50% nulls and also imputing the other columns we are left with 64 columns."
   ]
  },
  {
   "cell_type": "code",
   "execution_count": 60,
   "metadata": {},
   "outputs": [
    {
     "data": {
      "text/plain": [
       "Index(['iyear', 'imonth', 'iday', 'extended', 'country', 'region', 'latitude',\n",
       "       'longitude', 'specificity', 'vicinity', 'crit1', 'crit2', 'crit3',\n",
       "       'doubtterr', 'multiple', 'success', 'suicide', 'attacktype1',\n",
       "       'targtype1', 'targsubtype1', 'natlty1', 'guncertain1', 'individual',\n",
       "       'nperps', 'nperpcap', 'claimed', 'weaptype1', 'weapsubtype1', 'nkill',\n",
       "       'nkillus', 'nkillter', 'nwound', 'nwoundus', 'nwoundte', 'property',\n",
       "       'propextent', 'ishostkid', 'ransom', 'INT_LOG', 'INT_IDEO', 'INT_MISC',\n",
       "       'INT_ANY', 'country_txt', 'region_txt', 'provstate', 'city', 'location',\n",
       "       'summary', 'attacktype1_txt', 'targtype1_txt', 'targsubtype1_txt',\n",
       "       'corp1', 'target1', 'natlty1_txt', 'gname', 'motive', 'weaptype1_txt',\n",
       "       'weapsubtype1_txt', 'weapdetail', 'propextent_txt', 'propcomment',\n",
       "       'scite1', 'scite2', 'dbsource'],\n",
       "      dtype='object')"
      ]
     },
     "execution_count": 60,
     "metadata": {},
     "output_type": "execute_result"
    }
   ],
   "source": [
    "df_clean.columns"
   ]
  },
  {
   "cell_type": "code",
   "execution_count": 61,
   "metadata": {},
   "outputs": [
    {
     "data": {
      "text/plain": [
       "8951"
      ]
     },
     "execution_count": 61,
     "metadata": {},
     "output_type": "execute_result"
    }
   ],
   "source": [
    "df_clean.duplicated().sum()"
   ]
  },
  {
   "cell_type": "code",
   "execution_count": 62,
   "metadata": {},
   "outputs": [],
   "source": [
    "df_clean = df_clean.drop_duplicates()"
   ]
  },
  {
   "cell_type": "code",
   "execution_count": 63,
   "metadata": {},
   "outputs": [
    {
     "data": {
      "text/plain": [
       "0"
      ]
     },
     "execution_count": 63,
     "metadata": {},
     "output_type": "execute_result"
    }
   ],
   "source": [
    "df_clean.duplicated().sum()"
   ]
  },
  {
   "cell_type": "code",
   "execution_count": 72,
   "metadata": {},
   "outputs": [
    {
     "data": {
      "text/plain": [
       "Index(['iyear', 'imonth', 'iday', 'extended', 'country', 'region', 'latitude',\n",
       "       'longitude', 'specificity', 'vicinity', 'crit1', 'crit2', 'crit3',\n",
       "       'doubtterr', 'multiple', 'success', 'suicide', 'attacktype1',\n",
       "       'targtype1', 'targsubtype1', 'natlty1', 'guncertain1', 'individual',\n",
       "       'nperps', 'nperpcap', 'claimed', 'weaptype1', 'weapsubtype1', 'nkill',\n",
       "       'nkillus', 'nkillter', 'nwound', 'nwoundus', 'nwoundte', 'property',\n",
       "       'propextent', 'ishostkid', 'ransom', 'INT_LOG', 'INT_IDEO', 'INT_MISC',\n",
       "       'INT_ANY', 'country_txt', 'region_txt', 'provstate', 'city', 'location',\n",
       "       'summary', 'attacktype1_txt', 'targtype1_txt', 'targsubtype1_txt',\n",
       "       'corp1', 'target1', 'natlty1_txt', 'gname', 'motive', 'weaptype1_txt',\n",
       "       'weapsubtype1_txt', 'weapdetail', 'propextent_txt', 'propcomment',\n",
       "       'scite1', 'scite2', 'dbsource'],\n",
       "      dtype='object')"
      ]
     },
     "execution_count": 72,
     "metadata": {},
     "output_type": "execute_result"
    }
   ],
   "source": [
    "df_clean.columns"
   ]
  },
  {
   "cell_type": "code",
   "execution_count": 79,
   "metadata": {},
   "outputs": [
    {
     "data": {
      "text/plain": [
       "Index(['iyear', 'imonth', 'iday', 'extended', 'country', 'region', 'latitude',\n",
       "       'longitude', 'specificity', 'vicinity', 'crit1', 'crit2', 'crit3',\n",
       "       'doubtterr', 'multiple', 'success', 'suicide', 'attacktype1',\n",
       "       'targtype1', 'targsubtype1', 'natlty1', 'guncertain1', 'individual',\n",
       "       'nperps', 'nperpcap', 'claimed', 'weaptype1', 'weapsubtype1', 'nkill',\n",
       "       'nkillus', 'nkillter', 'nwound', 'nwoundus', 'nwoundte', 'property',\n",
       "       'propextent', 'ishostkid', 'ransom', 'INT_LOG', 'INT_IDEO', 'INT_MISC',\n",
       "       'INT_ANY'],\n",
       "      dtype='object')"
      ]
     },
     "execution_count": 79,
     "metadata": {},
     "output_type": "execute_result"
    }
   ],
   "source": [
    "num_cols, cat_cols = splitcols(df_clean)\n",
    "num_cols"
   ]
  },
  {
   "cell_type": "code",
   "execution_count": null,
   "metadata": {},
   "outputs": [],
   "source": []
  },
  {
   "cell_type": "code",
   "execution_count": null,
   "metadata": {},
   "outputs": [],
   "source": []
  },
  {
   "cell_type": "markdown",
   "metadata": {},
   "source": [
    "##### Creating Heatmap for numeric variables"
   ]
  },
  {
   "cell_type": "code",
   "execution_count": 94,
   "metadata": {},
   "outputs": [],
   "source": [
    "df_clean.to_csv(\"Global_Terrorism_Cleaned.csv\")"
   ]
  },
  {
   "cell_type": "code",
   "execution_count": null,
   "metadata": {},
   "outputs": [],
   "source": []
  },
  {
   "cell_type": "code",
   "execution_count": null,
   "metadata": {},
   "outputs": [],
   "source": []
  },
  {
   "cell_type": "code",
   "execution_count": null,
   "metadata": {},
   "outputs": [],
   "source": []
  },
  {
   "cell_type": "code",
   "execution_count": null,
   "metadata": {},
   "outputs": [],
   "source": []
  },
  {
   "cell_type": "code",
   "execution_count": null,
   "metadata": {},
   "outputs": [],
   "source": []
  },
  {
   "cell_type": "code",
   "execution_count": null,
   "metadata": {},
   "outputs": [],
   "source": []
  },
  {
   "cell_type": "code",
   "execution_count": null,
   "metadata": {},
   "outputs": [],
   "source": []
  },
  {
   "cell_type": "code",
   "execution_count": null,
   "metadata": {},
   "outputs": [],
   "source": []
  },
  {
   "cell_type": "code",
   "execution_count": null,
   "metadata": {},
   "outputs": [],
   "source": []
  },
  {
   "cell_type": "code",
   "execution_count": 152,
   "metadata": {},
   "outputs": [],
   "source": [
    "profile = ProfileReport(df_clean, title = \"PANDAS PROFILING REPORT\", explorative= True)\n"
   ]
  },
  {
   "cell_type": "code",
   "execution_count": 153,
   "metadata": {
    "scrolled": true
   },
   "outputs": [
    {
     "data": {
      "application/vnd.jupyter.widget-view+json": {
       "model_id": "d209121bfcb1410699591665739af0dc",
       "version_major": 2,
       "version_minor": 0
      },
      "text/plain": [
       "HBox(children=(HTML(value='Summarize dataset'), FloatProgress(value=0.0, max=77.0), HTML(value='')))"
      ]
     },
     "metadata": {},
     "output_type": "display_data"
    },
    {
     "name": "stderr",
     "output_type": "stream",
     "text": [
      "C:\\Users\\miihi\\anaconda3\\lib\\site-packages\\missingno\\missingno.py:250: UserWarning: FixedFormatter should only be used together with FixedLocator\n",
      "  ax1.set_xticklabels(ax1.get_xticklabels(), rotation=45, ha='right', fontsize=fontsize)\n",
      "C:\\Users\\miihi\\anaconda3\\lib\\site-packages\\pandas_profiling\\model\\summary.py:194: UserWarning: There was an attempt to generate the bar missing values diagrams, but this failed.\n",
      "    To hide this warning, disable the calculation\n",
      "    (using `df.profile_report(missing_diagrams={\"bar\": False}`)\n",
      "    If this is problematic for your use case, please report this as an issue:\n",
      "    https://github.com/pandas-profiling/pandas-profiling/issues\n",
      "    (include the error message: 'The number of FixedLocator locations (7), usually from a call to set_ticks, does not match the number of ticklabels (64).')\n",
      "  warnings.warn(\n"
     ]
    },
    {
     "name": "stdout",
     "output_type": "stream",
     "text": [
      "\n"
     ]
    },
    {
     "data": {
      "application/vnd.jupyter.widget-view+json": {
       "model_id": "ce79cc6430a6437bbfcf68f659475091",
       "version_major": 2,
       "version_minor": 0
      },
      "text/plain": [
       "HBox(children=(HTML(value='Generate report structure'), FloatProgress(value=0.0, max=1.0), HTML(value='')))"
      ]
     },
     "metadata": {},
     "output_type": "display_data"
    },
    {
     "name": "stdout",
     "output_type": "stream",
     "text": [
      "\n"
     ]
    },
    {
     "data": {
      "application/vnd.jupyter.widget-view+json": {
       "model_id": "",
       "version_major": 2,
       "version_minor": 0
      },
      "text/plain": [
       "HBox(children=(HTML(value='Render widgets'), FloatProgress(value=0.0, max=1.0), HTML(value='')))"
      ]
     },
     "metadata": {},
     "output_type": "display_data"
    },
    {
     "data": {
      "application/vnd.jupyter.widget-view+json": {
       "model_id": "322363e1c8764a21b31c6ff0003ea823",
       "version_major": 2,
       "version_minor": 0
      },
      "text/plain": [
       "VBox(children=(Tab(children=(Tab(children=(GridBox(children=(VBox(children=(GridspecLayout(children=(HTML(valu…"
      ]
     },
     "metadata": {},
     "output_type": "display_data"
    }
   ],
   "source": [
    "profile.to_widgets()"
   ]
  },
  {
   "cell_type": "code",
   "execution_count": 154,
   "metadata": {},
   "outputs": [
    {
     "data": {
      "application/vnd.jupyter.widget-view+json": {
       "model_id": "8d82b318198d45bab2d1b60d5f0f31f2",
       "version_major": 2,
       "version_minor": 0
      },
      "text/plain": [
       "HBox(children=(HTML(value='Render HTML'), FloatProgress(value=0.0, max=1.0), HTML(value='')))"
      ]
     },
     "metadata": {},
     "output_type": "display_data"
    },
    {
     "name": "stdout",
     "output_type": "stream",
     "text": [
      "\n"
     ]
    },
    {
     "data": {
      "application/vnd.jupyter.widget-view+json": {
       "model_id": "5653a2b2e1f845cfa0377efb841452c3",
       "version_major": 2,
       "version_minor": 0
      },
      "text/plain": [
       "HBox(children=(HTML(value='Export report to file'), FloatProgress(value=0.0, max=1.0), HTML(value='')))"
      ]
     },
     "metadata": {},
     "output_type": "display_data"
    },
    {
     "name": "stdout",
     "output_type": "stream",
     "text": [
      "\n"
     ]
    }
   ],
   "source": [
    "profile.to_file(\"output.html\")"
   ]
  },
  {
   "cell_type": "code",
   "execution_count": 34,
   "metadata": {},
   "outputs": [
    {
     "data": {
      "text/plain": [
       "8951"
      ]
     },
     "execution_count": 34,
     "metadata": {},
     "output_type": "execute_result"
    }
   ],
   "source": [
    "df_clean.duplicated().sum()"
   ]
  },
  {
   "cell_type": "code",
   "execution_count": 158,
   "metadata": {},
   "outputs": [],
   "source": [
    "df_clean = df_clean.drop_duplicates()"
   ]
  },
  {
   "cell_type": "code",
   "execution_count": 159,
   "metadata": {},
   "outputs": [
    {
     "data": {
      "text/plain": [
       "0"
      ]
     },
     "execution_count": 159,
     "metadata": {},
     "output_type": "execute_result"
    }
   ],
   "source": [
    "df_clean.duplicated().sum()"
   ]
  },
  {
   "cell_type": "code",
   "execution_count": 161,
   "metadata": {},
   "outputs": [
    {
     "data": {
      "text/plain": [
       "(181677, 64)"
      ]
     },
     "execution_count": 161,
     "metadata": {},
     "output_type": "execute_result"
    }
   ],
   "source": [
    "df_clean.shape"
   ]
  },
  {
   "cell_type": "code",
   "execution_count": null,
   "metadata": {},
   "outputs": [],
   "source": []
  },
  {
   "cell_type": "code",
   "execution_count": null,
   "metadata": {},
   "outputs": [],
   "source": []
  },
  {
   "cell_type": "code",
   "execution_count": null,
   "metadata": {},
   "outputs": [],
   "source": []
  },
  {
   "cell_type": "code",
   "execution_count": null,
   "metadata": {},
   "outputs": [],
   "source": []
  },
  {
   "cell_type": "markdown",
   "metadata": {},
   "source": [
    "###### Now all the numeric and factor columns are free from the null values"
   ]
  },
  {
   "cell_type": "markdown",
   "metadata": {},
   "source": [
    "Box plot of numeric columns do see the distribution"
   ]
  },
  {
   "cell_type": "code",
   "execution_count": 143,
   "metadata": {},
   "outputs": [
    {
     "data": {
      "image/png": "[encoded data removed]",
      "text/plain": [
       "<Figure size 432x288 with 1 Axes>"
      ]
     },
     "metadata": {
      "needs_background": "light"
     },
     "output_type": "display_data"
    },
    {
     "data": {
      "image/png": "[encoded data removed]",
      "text/plain": [
       "<Figure size 432x288 with 1 Axes>"
      ]
     },
     "metadata": {
      "needs_background": "light"
     },
     "output_type": "display_data"
    },
    {
     "data": {
      "image/png": "[encoded data removed]",
      "text/plain": [
       "<Figure size 432x288 with 1 Axes>"
      ]
     },
     "metadata": {
      "needs_background": "light"
     },
     "output_type": "display_data"
    },
    {
     "data": {
      "image/png": "[encoded data removed]",
      "text/plain": [
       "<Figure size 432x288 with 1 Axes>"
      ]
     },
     "metadata": {
      "needs_background": "light"
     },
     "output_type": "display_data"
    },
    {
     "data": {
      "image/png": "[encoded data removed]",
      "text/plain": [
       "<Figure size 432x288 with 1 Axes>"
      ]
     },
     "metadata": {
      "needs_background": "light"
     },
     "output_type": "display_data"
    },
    {
     "data": {
      "image/png": "[encoded data removed]",
      "text/plain": [
       "<Figure size 432x288 with 1 Axes>"
      ]
     },
     "metadata": {
      "needs_background": "light"
     },
     "output_type": "display_data"
    },
    {
     "data": {
      "image/png": "[encoded data removed]",
      "text/plain": [
       "<Figure size 432x288 with 1 Axes>"
      ]
     },
     "metadata": {
      "needs_background": "light"
     },
     "output_type": "display_data"
    },
    {
     "data": {
      "image/png": "[encoded data removed]",
      "text/plain": [
       "<Figure size 432x288 with 1 Axes>"
      ]
     },
     "metadata": {
      "needs_background": "light"
     },
     "output_type": "display_data"
    },
    {
     "data": {
      "image/png": "[encoded data removed]",
      "text/plain": [
       "<Figure size 432x288 with 1 Axes>"
      ]
     },
     "metadata": {
      "needs_background": "light"
     },
     "output_type": "display_data"
    },
    {
     "data": {
      "image/png": "[encoded data removed]",
      "text/plain": [
       "<Figure size 432x288 with 1 Axes>"
      ]
     },
     "metadata": {
      "needs_background": "light"
     },
     "output_type": "display_data"
    },
    {
     "data": {
      "image/png": "[encoded data removed]",
      "text/plain": [
       "<Figure size 432x288 with 1 Axes>"
      ]
     },
     "metadata": {
      "needs_background": "light"
     },
     "output_type": "display_data"
    },
    {
     "data": {
      "image/png": "[encoded data removed]",
      "text/plain": [
       "<Figure size 432x288 with 1 Axes>"
      ]
     },
     "metadata": {
      "needs_background": "light"
     },
     "output_type": "display_data"
    },
    {
     "data": {
      "image/png": "[encoded data removed]",
      "text/plain": [
       "<Figure size 432x288 with 1 Axes>"
      ]
     },
     "metadata": {
      "needs_background": "light"
     },
     "output_type": "display_data"
    },
    {
     "data": {
      "image/png": "[encoded data removed]",
      "text/plain": [
       "<Figure size 432x288 with 1 Axes>"
      ]
     },
     "metadata": {
      "needs_background": "light"
     },
     "output_type": "display_data"
    },
    {
     "data": {
      "image/png": "[encoded data removed]",
      "text/plain": [
       "<Figure size 432x288 with 1 Axes>"
      ]
     },
     "metadata": {
      "needs_background": "light"
     },
     "output_type": "display_data"
    },
    {
     "data": {
      "image/png": "[encoded data removed]",
      "text/plain": [
       "<Figure size 432x288 with 1 Axes>"
      ]
     },
     "metadata": {
      "needs_background": "light"
     },
     "output_type": "display_data"
    },
    {
     "data": {
      "image/png": "[encoded data removed]",
      "text/plain": [
       "<Figure size 432x288 with 1 Axes>"
      ]
     },
     "metadata": {
      "needs_background": "light"
     },
     "output_type": "display_data"
    },
    {
     "data": {
      "image/png": "[encoded data removed]",
      "text/plain": [
       "<Figure size 432x288 with 1 Axes>"
      ]
     },
     "metadata": {
      "needs_background": "light"
     },
     "output_type": "display_data"
    },
    {
     "data": {
      "image/png": "[encoded data removed]",
      "text/plain": [
       "<Figure size 432x288 with 1 Axes>"
      ]
     },
     "metadata": {
      "needs_background": "light"
     },
     "output_type": "display_data"
    },
    {
     "data": {
      "image/png": "[encoded data removed]",
      "text/plain": [
       "<Figure size 432x288 with 1 Axes>"
      ]
     },
     "metadata": {
      "needs_background": "light"
     },
     "output_type": "display_data"
    },
    {
     "data": {
      "image/png": "[encoded data removed]",
      "text/plain": [
       "<Figure size 432x288 with 1 Axes>"
      ]
     },
     "metadata": {
      "needs_background": "light"
     },
     "output_type": "display_data"
    },
    {
     "data": {
      "image/png": "[encoded data removed]",
      "text/plain": [
       "<Figure size 432x288 with 1 Axes>"
      ]
     },
     "metadata": {
      "needs_background": "light"
     },
     "output_type": "display_data"
    },
    {
     "data": {
      "image/png": "[encoded data removed]",
      "text/plain": [
       "<Figure size 432x288 with 1 Axes>"
      ]
     },
     "metadata": {
      "needs_background": "light"
     },
     "output_type": "display_data"
    },
    {
     "data": {
      "image/png": "[encoded data removed]",
      "text/plain": [
       "<Figure size 432x288 with 1 Axes>"
      ]
     },
     "metadata": {
      "needs_background": "light"
     },
     "output_type": "display_data"
    },
    {
     "data": {
      "image/png": "[encoded data removed]",
      "text/plain": [
       "<Figure size 432x288 with 1 Axes>"
      ]
     },
     "metadata": {
      "needs_background": "light"
     },
     "output_type": "display_data"
    },
    {
     "data": {
      "image/png": "[encoded data removed]",
      "text/plain": [
       "<Figure size 432x288 with 1 Axes>"
      ]
     },
     "metadata": {
      "needs_background": "light"
     },
     "output_type": "display_data"
    },
    {
     "data": {
      "image/png": "[encoded data removed]",
      "text/plain": [
       "<Figure size 432x288 with 1 Axes>"
      ]
     },
     "metadata": {
      "needs_background": "light"
     },
     "output_type": "display_data"
    },
    {
     "data": {
      "image/png": "[encoded data removed]",
      "text/plain": [
       "<Figure size 432x288 with 1 Axes>"
      ]
     },
     "metadata": {
      "needs_background": "light"
     },
     "output_type": "display_data"
    },
    {
     "data": {
      "image/png": "[encoded data removed]",
      "text/plain": [
       "<Figure size 432x288 with 1 Axes>"
      ]
     },
     "metadata": {
      "needs_background": "light"
     },
     "output_type": "display_data"
    },
    {
     "data": {
      "image/png": "[encoded data removed]",
      "text/plain": [
       "<Figure size 432x288 with 1 Axes>"
      ]
     },
     "metadata": {
      "needs_background": "light"
     },
     "output_type": "display_data"
    },
    {
     "data": {
      "image/png": "[encoded data removed]",
      "text/plain": [
       "<Figure size 432x288 with 1 Axes>"
      ]
     },
     "metadata": {
      "needs_background": "light"
     },
     "output_type": "display_data"
    },
    {
     "data": {
      "image/png": "[encoded data removed]",
      "text/plain": [
       "<Figure size 432x288 with 1 Axes>"
      ]
     },
     "metadata": {
      "needs_background": "light"
     },
     "output_type": "display_data"
    },
    {
     "data": {
      "image/png": "[encoded data removed]",
      "text/plain": [
       "<Figure size 432x288 with 1 Axes>"
      ]
     },
     "metadata": {
      "needs_background": "light"
     },
     "output_type": "display_data"
    },
    {
     "data": {
      "image/png": "[encoded data removed]",
      "text/plain": [
       "<Figure size 432x288 with 1 Axes>"
      ]
     },
     "metadata": {
      "needs_background": "light"
     },
     "output_type": "display_data"
    },
    {
     "data": {
      "image/png": "[encoded data removed]",
      "text/plain": [
       "<Figure size 432x288 with 1 Axes>"
      ]
     },
     "metadata": {
      "needs_background": "light"
     },
     "output_type": "display_data"
    },
    {
     "data": {
      "image/png": "[encoded data removed]",
      "text/plain": [
       "<Figure size 432x288 with 1 Axes>"
      ]
     },
     "metadata": {
      "needs_background": "light"
     },
     "output_type": "display_data"
    },
    {
     "data": {
      "image/png": "[encoded data removed]",
      "text/plain": [
       "<Figure size 432x288 with 1 Axes>"
      ]
     },
     "metadata": {
      "needs_background": "light"
     },
     "output_type": "display_data"
    },
    {
     "data": {
      "image/png": "[encoded data removed]",
      "text/plain": [
       "<Figure size 432x288 with 1 Axes>"
      ]
     },
     "metadata": {
      "needs_background": "light"
     },
     "output_type": "display_data"
    },
    {
     "data": {
      "image/png": "[encoded data removed]",
      "text/plain": [
       "<Figure size 432x288 with 1 Axes>"
      ]
     },
     "metadata": {
      "needs_background": "light"
     },
     "output_type": "display_data"
    },
    {
     "data": {
      "image/png": "[encoded data removed]",
      "text/plain": [
       "<Figure size 432x288 with 1 Axes>"
      ]
     },
     "metadata": {
      "needs_background": "light"
     },
     "output_type": "display_data"
    },
    {
     "data": {
      "image/png": "[encoded data removed]",
      "text/plain": [
       "<Figure size 432x288 with 1 Axes>"
      ]
     },
     "metadata": {
      "needs_background": "light"
     },
     "output_type": "display_data"
    },
    {
     "data": {
      "image/png": "[encoded data removed]",
      "text/plain": [
       "<Figure size 432x288 with 1 Axes>"
      ]
     },
     "metadata": {
      "needs_background": "light"
     },
     "output_type": "display_data"
    }
   ],
   "source": [
    "for i in numeric_df.columns:\n",
    "    sns.boxplot(x = numeric_df[i], palette='flare_r')\n",
    "    plt.title(i)\n",
    "    plt.show()"
   ]
  },
  {
   "cell_type": "code",
   "execution_count": null,
   "metadata": {},
   "outputs": [],
   "source": []
  },
  {
   "cell_type": "code",
   "execution_count": null,
   "metadata": {},
   "outputs": [],
   "source": []
  },
  {
   "cell_type": "code",
   "execution_count": null,
   "metadata": {},
   "outputs": [],
   "source": []
  },
  {
   "cell_type": "code",
   "execution_count": null,
   "metadata": {},
   "outputs": [],
   "source": []
  }
 ],
 "metadata": {
  "kernelspec": {
   "display_name": "Python 3",
   "language": "python",
   "name": "python3"
  },
  "language_info": {
   "codemirror_mode": {
    "name": "ipython",
    "version": 3
   },
   "file_extension": ".py",
   "mimetype": "text/x-python",
   "name": "python",
   "nbconvert_exporter": "python",
   "pygments_lexer": "ipython3",
   "version": "3.8.5"
  }
 },
 "nbformat": 4,
 "nbformat_minor": 4
}
